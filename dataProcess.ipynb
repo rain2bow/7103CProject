{
 "cells": [
  {
   "cell_type": "code",
   "execution_count": null,
   "id": "initial_id",
   "metadata": {
    "collapsed": true
   },
   "outputs": [],
   "source": ""
  },
  {
   "metadata": {
    "ExecuteTime": {
     "end_time": "2024-11-08T04:05:42.634532Z",
     "start_time": "2024-11-08T04:05:41.954983Z"
    }
   },
   "cell_type": "code",
   "source": [
    "import pandas as pd\n",
    "from pandas import DataFrame\n",
    "from sklearn.model_selection import train_test_split\n",
    "from imblearn.under_sampling import RandomUnderSampler\n",
    "from sklearn.preprocessing import MinMaxScaler\n",
    "\n",
    "df = pd.read_csv('american_bankruptcy_dataset.csv')\n",
    "\n",
    "# 检查缺失值\n",
    "missing_values = df.isnull().sum()\n",
    "print(\"Missing values in each column:\\n\", missing_values)\n",
    "\n",
    "df['status_label'] = df['status_label'].map({'alive': 0, 'failed': 1})\n",
    "\n",
    "columns_to_drop = ['company_name','fyear','Division','MajorGroup']\n",
    "df = df.drop(columns=columns_to_drop)\n",
    "\n",
    "X = df.drop('status_label', axis=1)\n",
    "y = df['status_label']\n",
    "\n",
    "print(\"alive数量\", df[df['status_label']==0].shape[0])\n",
    "print(\"fail数量\", df[df['status_label']==1].shape[0])\n",
    "\n",
    "# 归一化\n",
    "scaler = MinMaxScaler()\n",
    "\n",
    "X_normalized = scaler.fit_transform(X)\n",
    "X_normalized = DataFrame(X_normalized)\n",
    "\n",
    "# 划分训练集和测试集\n",
    "X_train, X_test, y_train, y_test = train_test_split(X_normalized, y, test_size=0.2, random_state=42)\n",
    "\n",
    "print(\"Training set size:\", X_train.shape)\n",
    "print(\"Test set size:\", X_test.shape)\n",
    "\n",
    "train_data = pd.concat([X_train, y_train], axis=1)\n",
    "\n",
    "fail = train_data[train_data['status_label'] == 1]\n",
    "alive = train_data[train_data['status_label'] == 0]\n",
    "\n",
    "# 欠采样\n",
    "rus = RandomUnderSampler(sampling_strategy=0.5, random_state=42)  # 2:1 比例\n",
    "X_train_balanced, y_train_balanced = rus.fit_resample(X_train, y_train)\n",
    "\n",
    "test_data = pd.concat([X_test, y_test], axis=1)\n",
    "test_data.to_csv('test_dataset.csv', index=False)\n",
    "\n",
    "# 欠采样后的训练集\n",
    "train_balanced_data = pd.concat([X_train_balanced, y_train_balanced], axis=1)\n",
    "train_balanced_data.to_csv('balanced_train_dataset.csv', index=False)\n",
    "\n",
    "balanced_train_df = pd.read_csv('balanced_train_dataset.csv')\n",
    "print(balanced_train_df[balanced_train_df['status_label']==0].shape[0])\n",
    "print(balanced_train_df[balanced_train_df['status_label']==1].shape[0])"
   ],
   "id": "a70e47d26fb28cb3",
   "outputs": [
    {
     "name": "stdout",
     "output_type": "stream",
     "text": [
      "Missing values in each column:\n",
      " company_name    0\n",
      "fyear           0\n",
      "status_label    0\n",
      "X1              0\n",
      "X2              0\n",
      "X3              0\n",
      "X4              0\n",
      "X5              0\n",
      "X6              0\n",
      "X7              0\n",
      "X8              0\n",
      "X9              0\n",
      "X10             0\n",
      "X11             0\n",
      "X12             0\n",
      "X13             0\n",
      "X14             0\n",
      "X15             0\n",
      "X16             0\n",
      "X17             0\n",
      "X18             0\n",
      "Division        0\n",
      "MajorGroup      0\n",
      "dtype: int64\n",
      "alive数量 73462\n",
      "fail数量 5220\n",
      "Training set size: (62945, 18)\n",
      "Test set size: (15737, 18)\n",
      "8304\n",
      "4152\n"
     ]
    }
   ],
   "execution_count": 12
  },
  {
   "metadata": {},
   "cell_type": "markdown",
   "source": "",
   "id": "6313914c588ec821"
  },
  {
   "metadata": {},
   "cell_type": "code",
   "outputs": [],
   "execution_count": null,
   "source": "",
   "id": "823a122e4b593719"
  }
 ],
 "metadata": {
  "kernelspec": {
   "display_name": "Python 3",
   "language": "python",
   "name": "python3"
  },
  "language_info": {
   "codemirror_mode": {
    "name": "ipython",
    "version": 2
   },
   "file_extension": ".py",
   "mimetype": "text/x-python",
   "name": "python",
   "nbconvert_exporter": "python",
   "pygments_lexer": "ipython2",
   "version": "2.7.6"
  }
 },
 "nbformat": 4,
 "nbformat_minor": 5
}
